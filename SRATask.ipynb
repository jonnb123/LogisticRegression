{
  "nbformat": 4,
  "nbformat_minor": 0,
  "metadata": {
    "colab": {
      "name": "SRATask.ipynb",
      "provenance": [],
      "collapsed_sections": []
    },
    "kernelspec": {
      "name": "python3",
      "display_name": "Python 3"
    },
    "language_info": {
      "name": "python"
    }
  },
  "cells": [
    {
      "cell_type": "markdown",
      "metadata": {
        "id": "VAb41_jMLtW6"
      },
      "source": [
        "# Importing and First Look"
      ]
    },
    {
      "cell_type": "markdown",
      "metadata": {
        "id": "aTJST1pWOUel"
      },
      "source": [
        "Install pandas and numpy"
      ]
    },
    {
      "cell_type": "code",
      "metadata": {
        "colab": {
          "base_uri": "https://localhost:8080/"
        },
        "id": "1wZRbKPCOZAg",
        "outputId": "4e38bf71-9507-4c99-9bad-9a783f5b5678"
      },
      "source": [
        "!pip install pandas \n",
        "!pip install numpy "
      ],
      "execution_count": null,
      "outputs": [
        {
          "output_type": "stream",
          "text": [
            "Requirement already satisfied: pandas in /usr/local/lib/python3.7/dist-packages (1.1.5)\n",
            "Requirement already satisfied: numpy>=1.15.4 in /usr/local/lib/python3.7/dist-packages (from pandas) (1.19.5)\n",
            "Requirement already satisfied: pytz>=2017.2 in /usr/local/lib/python3.7/dist-packages (from pandas) (2018.9)\n",
            "Requirement already satisfied: python-dateutil>=2.7.3 in /usr/local/lib/python3.7/dist-packages (from pandas) (2.8.1)\n",
            "Requirement already satisfied: six>=1.5 in /usr/local/lib/python3.7/dist-packages (from python-dateutil>=2.7.3->pandas) (1.15.0)\n",
            "Requirement already satisfied: numpy in /usr/local/lib/python3.7/dist-packages (1.19.5)\n"
          ],
          "name": "stdout"
        }
      ]
    },
    {
      "cell_type": "markdown",
      "metadata": {
        "id": "vvUinkz3hk0H"
      },
      "source": [
        "Mount OneDrive:"
      ]
    },
    {
      "cell_type": "code",
      "metadata": {
        "colab": {
          "base_uri": "https://localhost:8080/"
        },
        "id": "_jFTPmXwgjK-",
        "outputId": "b84d5403-6e79-4ed6-b7bf-1f4558601bfb"
      },
      "source": [
        "from google.colab import drive\n",
        "drive.mount('/content/drive')"
      ],
      "execution_count": null,
      "outputs": [
        {
          "output_type": "stream",
          "text": [
            "Mounted at /content/drive\n"
          ],
          "name": "stdout"
        }
      ]
    },
    {
      "cell_type": "markdown",
      "metadata": {
        "id": "IIhpNjeMhp8i"
      },
      "source": [
        "Import pandas to use dataframes, seaborn and pyplot for graphics, sk learn packages for predictions."
      ]
    },
    {
      "cell_type": "code",
      "metadata": {
        "id": "JA8Cck2Dijp9"
      },
      "source": [
        "import pandas as pd\n",
        "import seaborn as sns\n",
        "import matplotlib.pyplot as plt\n",
        "from sklearn.linear_model import LogisticRegression\n",
        "from sklearn.model_selection import train_test_split\n",
        "from sklearn.metrics import accuracy_score"
      ],
      "execution_count": null,
      "outputs": []
    },
    {
      "cell_type": "markdown",
      "metadata": {
        "id": "L8n0ai3Zinzq"
      },
      "source": [
        "Read in SRA from the data saved to OneDrive:"
      ]
    },
    {
      "cell_type": "code",
      "metadata": {
        "id": "XTqMlUCyh7tu"
      },
      "source": [
        "df = pd.read_csv(\"drive/My Drive/Task_Data.csv\",engine='python')"
      ],
      "execution_count": null,
      "outputs": []
    },
    {
      "cell_type": "markdown",
      "metadata": {
        "id": "GV6sfEOXNcFy"
      },
      "source": [
        "firm_ID dropped,as not needed for analysis:"
      ]
    },
    {
      "cell_type": "code",
      "metadata": {
        "id": "YnY3f--JMxRd"
      },
      "source": [
        "col_to_drop = [\"firm_ID\"]\n",
        "df = df.drop(columns=col_to_drop,axis=1)"
      ],
      "execution_count": null,
      "outputs": []
    },
    {
      "cell_type": "markdown",
      "metadata": {
        "id": "ICDHEjvVPttV"
      },
      "source": [
        "Printing the head of the dataframe "
      ]
    },
    {
      "cell_type": "code",
      "metadata": {
        "colab": {
          "base_uri": "https://localhost:8080/"
        },
        "id": "I9K9zs_CjBm3",
        "outputId": "a216b05a-b2f5-437f-9947-cfb50fa31553"
      },
      "source": [
        "print(df.head)"
      ],
      "execution_count": null,
      "outputs": [
        {
          "output_type": "stream",
          "text": [
            "<bound method NDFrame.head of      big_clients  num_offices  tax  ...  dispute  parking  disciplinary_action\n",
            "0              0            4    0  ...        0        0                    0\n",
            "1              0            3    1  ...        0        1                    0\n",
            "2              0            3    0  ...        1        0                    0\n",
            "3              0            3    1  ...        0        1                    0\n",
            "4              0            2    0  ...        1        1                    0\n",
            "..           ...          ...  ...  ...      ...      ...                  ...\n",
            "245            0            5    0  ...        0        1                    0\n",
            "246            0            2    0  ...        1        0                    0\n",
            "247            1            4    0  ...        0        0                    0\n",
            "248            0            3    1  ...        0        1                    0\n",
            "249            0            4    0  ...        1        1                    1\n",
            "\n",
            "[250 rows x 12 columns]>\n"
          ],
          "name": "stdout"
        }
      ]
    },
    {
      "cell_type": "markdown",
      "metadata": {
        "id": "xCj3RILTLUYj"
      },
      "source": [
        "Listing column names:"
      ]
    },
    {
      "cell_type": "code",
      "metadata": {
        "colab": {
          "base_uri": "https://localhost:8080/"
        },
        "id": "91YfZM_vLNRB",
        "outputId": "87aaca87-bbe6-4353-8620-63a886028303"
      },
      "source": [
        "for col_name in df.columns: \n",
        "    print(col_name)"
      ],
      "execution_count": null,
      "outputs": [
        {
          "output_type": "stream",
          "text": [
            "big_clients\n",
            "num_offices\n",
            "tax\n",
            "overseas_offices\n",
            "tcsp\n",
            "turnover\n",
            "conveyancing\n",
            "numstaff\n",
            "family\n",
            "dispute\n",
            "parking\n",
            "disciplinary_action\n"
          ],
          "name": "stdout"
        }
      ]
    },
    {
      "cell_type": "markdown",
      "metadata": {
        "id": "EMV6blTV3-lm"
      },
      "source": [
        "Have several types of firms:\n",
        "*   Big client firms\n",
        "*   Specialist tax firms\n",
        "*   Firms with overseas offices\n",
        "*   Trusts and company service provider firms\n",
        "*   Specialist conveyencer firms\n",
        "*   Specialist family firms\n",
        "*   Specialist dispute resolution firms\n",
        "*   Firms with onsite parking \n"
      ]
    },
    {
      "cell_type": "markdown",
      "metadata": {
        "id": "gfa1KZ_kKzxB"
      },
      "source": [
        "# Dealing With Outliers"
      ]
    },
    {
      "cell_type": "markdown",
      "metadata": {
        "id": "9KfGZVB03xkb"
      },
      "source": [
        "Can see that there are 11 null values in turnover and 6 in the numstaff column"
      ]
    },
    {
      "cell_type": "code",
      "metadata": {
        "colab": {
          "base_uri": "https://localhost:8080/"
        },
        "id": "DC9H8Of43iu1",
        "outputId": "06ae2542-4108-4089-c04f-3300a2a27664"
      },
      "source": [
        "df.isna().sum()"
      ],
      "execution_count": null,
      "outputs": [
        {
          "output_type": "execute_result",
          "data": {
            "text/plain": [
              "big_clients             0\n",
              "num_offices             0\n",
              "tax                     0\n",
              "overseas_offices        0\n",
              "tcsp                    0\n",
              "turnover               11\n",
              "conveyancing            0\n",
              "numstaff                6\n",
              "family                  0\n",
              "dispute                 0\n",
              "parking                 0\n",
              "disciplinary_action     0\n",
              "dtype: int64"
            ]
          },
          "metadata": {
            "tags": []
          },
          "execution_count": 9
        }
      ]
    },
    {
      "cell_type": "markdown",
      "metadata": {
        "id": "Ysb9NBjO_ORz"
      },
      "source": [
        "Boxplot to detect outliers for turnover:"
      ]
    },
    {
      "cell_type": "code",
      "metadata": {
        "colab": {
          "base_uri": "https://localhost:8080/",
          "height": 296
        },
        "id": "B-kae0R15mVN",
        "outputId": "b5e1e2ae-d89a-4621-d1c1-1dc082f57a67"
      },
      "source": [
        "sns.boxplot(x=df['turnover'])"
      ],
      "execution_count": null,
      "outputs": [
        {
          "output_type": "execute_result",
          "data": {
            "text/plain": [
              "<matplotlib.axes._subplots.AxesSubplot at 0x7ff31e620690>"
            ]
          },
          "metadata": {
            "tags": []
          },
          "execution_count": 10
        },
        {
          "output_type": "display_data",
          "data": {
            "image/png": "[encoded data removed]",
            "text/plain": [
              "<Figure size 432x288 with 1 Axes>"
            ]
          },
          "metadata": {
            "tags": [],
            "needs_background": "light"
          }
        }
      ]
    },
    {
      "cell_type": "markdown",
      "metadata": {
        "id": "cNffC0zP-q-U"
      },
      "source": [
        "No outliers so using mean imputation for null values on turnover column"
      ]
    },
    {
      "cell_type": "code",
      "metadata": {
        "id": "YsDfRndB-Tv6"
      },
      "source": [
        "df['turnover'] = df['turnover'].fillna( df['turnover'].mean() )"
      ],
      "execution_count": null,
      "outputs": []
    },
    {
      "cell_type": "markdown",
      "metadata": {
        "id": "P23uVvq7_nQQ"
      },
      "source": [
        "Boxplot of numstaff:"
      ]
    },
    {
      "cell_type": "code",
      "metadata": {
        "colab": {
          "base_uri": "https://localhost:8080/",
          "height": 296
        },
        "id": "EeXKIKQm_geZ",
        "outputId": "c22c87dd-3a0c-4818-d152-b90eeb266650"
      },
      "source": [
        "sns.boxplot(x=df['numstaff'])"
      ],
      "execution_count": null,
      "outputs": [
        {
          "output_type": "execute_result",
          "data": {
            "text/plain": [
              "<matplotlib.axes._subplots.AxesSubplot at 0x7ff31e5884d0>"
            ]
          },
          "metadata": {
            "tags": []
          },
          "execution_count": 12
        },
        {
          "output_type": "display_data",
          "data": {
            "image/png": "[encoded data removed]",
            "text/plain": [
              "<Figure size 432x288 with 1 Axes>"
            ]
          },
          "metadata": {
            "tags": [],
            "needs_background": "light"
          }
        }
      ]
    },
    {
      "cell_type": "markdown",
      "metadata": {
        "id": "MiwPnMSh_tY4"
      },
      "source": [
        "The number of staff here clearly varies with many outliers so using Median imputation:"
      ]
    },
    {
      "cell_type": "code",
      "metadata": {
        "id": "tFfgaie9_0Po"
      },
      "source": [
        "df['numstaff'] = df['numstaff'].fillna( df['numstaff'].mean() )"
      ],
      "execution_count": null,
      "outputs": []
    },
    {
      "cell_type": "markdown",
      "metadata": {
        "id": "XFu-5hqPAIzt"
      },
      "source": [
        "All outliers now removed:"
      ]
    },
    {
      "cell_type": "code",
      "metadata": {
        "colab": {
          "base_uri": "https://localhost:8080/"
        },
        "id": "SBHDyhSnAG3J",
        "outputId": "04a97697-f509-48d1-dd9a-8fb546a39939"
      },
      "source": [
        "df.isna().sum()"
      ],
      "execution_count": null,
      "outputs": [
        {
          "output_type": "execute_result",
          "data": {
            "text/plain": [
              "big_clients            0\n",
              "num_offices            0\n",
              "tax                    0\n",
              "overseas_offices       0\n",
              "tcsp                   0\n",
              "turnover               0\n",
              "conveyancing           0\n",
              "numstaff               0\n",
              "family                 0\n",
              "dispute                0\n",
              "parking                0\n",
              "disciplinary_action    0\n",
              "dtype: int64"
            ]
          },
          "metadata": {
            "tags": []
          },
          "execution_count": 14
        }
      ]
    },
    {
      "cell_type": "markdown",
      "metadata": {
        "id": "-blbYAtFHrqM"
      },
      "source": [
        "# Plots of Features and Disciplinary Action "
      ]
    },
    {
      "cell_type": "markdown",
      "metadata": {
        "id": "Dmi6ROTLiWkw"
      },
      "source": [
        "There are more firms that do not have big clients:"
      ]
    },
    {
      "cell_type": "code",
      "metadata": {
        "colab": {
          "base_uri": "https://localhost:8080/",
          "height": 297
        },
        "id": "l4b_MC8TH2Fz",
        "outputId": "b32466e7-3f01-4bef-a9a3-daf3a23d4b32"
      },
      "source": [
        "sns.countplot(x='big_clients',data=df)"
      ],
      "execution_count": null,
      "outputs": [
        {
          "output_type": "execute_result",
          "data": {
            "text/plain": [
              "<matplotlib.axes._subplots.AxesSubplot at 0x7fa26d48d610>"
            ]
          },
          "metadata": {
            "tags": []
          },
          "execution_count": 14
        },
        {
          "output_type": "display_data",
          "data": {
            "image/png": "[encoded data removed]",
            "text/plain": [
              "<Figure size 432x288 with 1 Axes>"
            ]
          },
          "metadata": {
            "tags": [],
            "needs_background": "light"
          }
        }
      ]
    },
    {
      "cell_type": "markdown",
      "metadata": {
        "id": "9_qrdF8kieeG"
      },
      "source": [
        "The majority of firms have 3 or 4 offices:"
      ]
    },
    {
      "cell_type": "code",
      "metadata": {
        "colab": {
          "base_uri": "https://localhost:8080/",
          "height": 297
        },
        "id": "-DbSAuueH-TK",
        "outputId": "d85a167d-e4d5-48fb-c799-650aebe834ac"
      },
      "source": [
        "sns.countplot(x='num_offices',data=df)"
      ],
      "execution_count": null,
      "outputs": [
        {
          "output_type": "execute_result",
          "data": {
            "text/plain": [
              "<matplotlib.axes._subplots.AxesSubplot at 0x7fa26d469ad0>"
            ]
          },
          "metadata": {
            "tags": []
          },
          "execution_count": 15
        },
        {
          "output_type": "display_data",
          "data": {
            "image/png": "[encoded data removed]",
            "text/plain": [
              "<Figure size 432x288 with 1 Axes>"
            ]
          },
          "metadata": {
            "tags": [],
            "needs_background": "light"
          }
        }
      ]
    },
    {
      "cell_type": "markdown",
      "metadata": {
        "id": "-iVdTZt4inuG"
      },
      "source": [
        "Most firms do not specialise in tax:"
      ]
    },
    {
      "cell_type": "code",
      "metadata": {
        "colab": {
          "base_uri": "https://localhost:8080/",
          "height": 297
        },
        "id": "oikKWpFlIJl5",
        "outputId": "4e40993c-37d4-4bf8-a0c4-ad519e4b89aa"
      },
      "source": [
        "sns.countplot(x='tax',data=df)"
      ],
      "execution_count": null,
      "outputs": [
        {
          "output_type": "execute_result",
          "data": {
            "text/plain": [
              "<matplotlib.axes._subplots.AxesSubplot at 0x7fa26d482950>"
            ]
          },
          "metadata": {
            "tags": []
          },
          "execution_count": 16
        },
        {
          "output_type": "display_data",
          "data": {
            "image/png": "[encoded data removed]",
            "text/plain": [
              "<Figure size 432x288 with 1 Axes>"
            ]
          },
          "metadata": {
            "tags": [],
            "needs_background": "light"
          }
        }
      ]
    },
    {
      "cell_type": "markdown",
      "metadata": {
        "id": "6BzBQr_eiz0k"
      },
      "source": [
        "There are very few firms with overseas offices:"
      ]
    },
    {
      "cell_type": "code",
      "metadata": {
        "colab": {
          "base_uri": "https://localhost:8080/",
          "height": 297
        },
        "id": "aLDNFGDjIRVe",
        "outputId": "df57230e-a77c-4fd6-9583-1e802851f188"
      },
      "source": [
        "sns.countplot(x='overseas_offices',data=df)"
      ],
      "execution_count": null,
      "outputs": [
        {
          "output_type": "execute_result",
          "data": {
            "text/plain": [
              "<matplotlib.axes._subplots.AxesSubplot at 0x7fa26d3b3e90>"
            ]
          },
          "metadata": {
            "tags": []
          },
          "execution_count": 17
        },
        {
          "output_type": "display_data",
          "data": {
            "image/png": "[encoded data removed]",
            "text/plain": [
              "<Figure size 432x288 with 1 Axes>"
            ]
          },
          "metadata": {
            "tags": [],
            "needs_background": "light"
          }
        }
      ]
    },
    {
      "cell_type": "markdown",
      "metadata": {
        "id": "q_MGcMdfi80t"
      },
      "source": [
        "The majority of firms are trusts and company service providers:"
      ]
    },
    {
      "cell_type": "code",
      "metadata": {
        "colab": {
          "base_uri": "https://localhost:8080/",
          "height": 296
        },
        "id": "YcNXftDGIZFn",
        "outputId": "0a7be15b-2bcc-4d09-d2ca-3368f8c2fa3d"
      },
      "source": [
        "sns.countplot(x='tcsp',data=df)"
      ],
      "execution_count": null,
      "outputs": [
        {
          "output_type": "execute_result",
          "data": {
            "text/plain": [
              "<matplotlib.axes._subplots.AxesSubplot at 0x7fa26d30b090>"
            ]
          },
          "metadata": {
            "tags": []
          },
          "execution_count": 18
        },
        {
          "output_type": "display_data",
          "data": {
            "image/png": "[encoded data removed]",
            "text/plain": [
              "<Figure size 432x288 with 1 Axes>"
            ]
          },
          "metadata": {
            "tags": [],
            "needs_background": "light"
          }
        }
      ]
    },
    {
      "cell_type": "markdown",
      "metadata": {
        "id": "c8fLRy0kjOmi"
      },
      "source": [
        "Most firms are specialist conveyancers:"
      ]
    },
    {
      "cell_type": "code",
      "metadata": {
        "colab": {
          "base_uri": "https://localhost:8080/",
          "height": 296
        },
        "id": "Fy7__i5eIgKM",
        "outputId": "d4972668-80a1-498a-d874-ba4a01268b04"
      },
      "source": [
        "sns.countplot(x='conveyancing',data=df)"
      ],
      "execution_count": null,
      "outputs": [
        {
          "output_type": "execute_result",
          "data": {
            "text/plain": [
              "<matplotlib.axes._subplots.AxesSubplot at 0x7fa26c4b96d0>"
            ]
          },
          "metadata": {
            "tags": []
          },
          "execution_count": 21
        },
        {
          "output_type": "display_data",
          "data": {
            "image/png": "[encoded data removed]",
            "text/plain": [
              "<Figure size 432x288 with 1 Axes>"
            ]
          },
          "metadata": {
            "tags": [],
            "needs_background": "light"
          }
        }
      ]
    },
    {
      "cell_type": "markdown",
      "metadata": {
        "id": "UgOWJf2vjc16"
      },
      "source": [
        "Similar number of specialist family firms to those that are not:"
      ]
    },
    {
      "cell_type": "code",
      "metadata": {
        "colab": {
          "base_uri": "https://localhost:8080/",
          "height": 296
        },
        "id": "CEfcpTU8Ivgj",
        "outputId": "fc2cb6c1-89e5-4066-a39c-23b3f71133b4"
      },
      "source": [
        "sns.countplot(x='family',data=df)"
      ],
      "execution_count": null,
      "outputs": [
        {
          "output_type": "execute_result",
          "data": {
            "text/plain": [
              "<matplotlib.axes._subplots.AxesSubplot at 0x7fa26c413710>"
            ]
          },
          "metadata": {
            "tags": []
          },
          "execution_count": 22
        },
        {
          "output_type": "display_data",
          "data": {
            "image/png": "[encoded data removed]",
            "text/plain": [
              "<Figure size 432x288 with 1 Axes>"
            ]
          },
          "metadata": {
            "tags": [],
            "needs_background": "light"
          }
        }
      ]
    },
    {
      "cell_type": "markdown",
      "metadata": {
        "id": "8ZmKv87sjy9F"
      },
      "source": [
        "Majority are not specialist dispute resolution firms:"
      ]
    },
    {
      "cell_type": "code",
      "metadata": {
        "colab": {
          "base_uri": "https://localhost:8080/",
          "height": 296
        },
        "id": "0M9XDMe4I0Yh",
        "outputId": "1615778b-333b-4d05-e9bf-b2b52dcbcb96"
      },
      "source": [
        "sns.countplot(x='dispute',data=df)"
      ],
      "execution_count": null,
      "outputs": [
        {
          "output_type": "execute_result",
          "data": {
            "text/plain": [
              "<matplotlib.axes._subplots.AxesSubplot at 0x7fa26c3e05d0>"
            ]
          },
          "metadata": {
            "tags": []
          },
          "execution_count": 23
        },
        {
          "output_type": "display_data",
          "data": {
            "image/png": "[encoded data removed]",
            "text/plain": [
              "<Figure size 432x288 with 1 Axes>"
            ]
          },
          "metadata": {
            "tags": [],
            "needs_background": "light"
          }
        }
      ]
    },
    {
      "cell_type": "markdown",
      "metadata": {
        "id": "6vHY_GvIkEZs"
      },
      "source": [
        "More firms have onsite parking:"
      ]
    },
    {
      "cell_type": "code",
      "metadata": {
        "colab": {
          "base_uri": "https://localhost:8080/",
          "height": 298
        },
        "id": "RSIDCKNBI6tJ",
        "outputId": "5dcba93e-6d88-4b6b-b5a2-04398fc0e73d"
      },
      "source": [
        "sns.countplot(x='parking',data=df)"
      ],
      "execution_count": null,
      "outputs": [
        {
          "output_type": "execute_result",
          "data": {
            "text/plain": [
              "<matplotlib.axes._subplots.AxesSubplot at 0x7fa26c40b310>"
            ]
          },
          "metadata": {
            "tags": []
          },
          "execution_count": 24
        },
        {
          "output_type": "display_data",
          "data": {
            "image/png": "[encoded data removed]",
            "text/plain": [
              "<Figure size 432x288 with 1 Axes>"
            ]
          },
          "metadata": {
            "tags": [],
            "needs_background": "light"
          }
        }
      ]
    },
    {
      "cell_type": "markdown",
      "metadata": {
        "id": "igwtUv6HkRGd"
      },
      "source": [
        "More firms have not had disciplinary action taken by the SRA:"
      ]
    },
    {
      "cell_type": "code",
      "metadata": {
        "colab": {
          "base_uri": "https://localhost:8080/",
          "height": 297
        },
        "id": "mgcfij2HI_8f",
        "outputId": "d459d06c-53bc-4fd0-9696-d8d65771469d"
      },
      "source": [
        "sns.countplot(x='disciplinary_action',data=df)"
      ],
      "execution_count": null,
      "outputs": [
        {
          "output_type": "execute_result",
          "data": {
            "text/plain": [
              "<matplotlib.axes._subplots.AxesSubplot at 0x7fa26c30d510>"
            ]
          },
          "metadata": {
            "tags": []
          },
          "execution_count": 25
        },
        {
          "output_type": "display_data",
          "data": {
            "image/png": "[encoded data removed]",
            "text/plain": [
              "<Figure size 432x288 with 1 Axes>"
            ]
          },
          "metadata": {
            "tags": [],
            "needs_background": "light"
          }
        }
      ]
    },
    {
      "cell_type": "markdown",
      "metadata": {
        "id": "P49wAk4yKR2J"
      },
      "source": [
        "# Examining Multicollinearity "
      ]
    },
    {
      "cell_type": "markdown",
      "metadata": {
        "id": "MmRGwDs0HU8x"
      },
      "source": [
        "Heatmap to show multicollinearity:"
      ]
    },
    {
      "cell_type": "code",
      "metadata": {
        "colab": {
          "base_uri": "https://localhost:8080/",
          "height": 369
        },
        "id": "e83wTiafJxoa",
        "outputId": "900fd4a5-f1a7-4f91-8eb5-18ecc2f9016e"
      },
      "source": [
        "%matplotlib inline\n",
        "corr = df.corr()\n",
        "sns.heatmap(corr, \n",
        "        xticklabels=corr.columns,\n",
        "        yticklabels=corr.columns)"
      ],
      "execution_count": null,
      "outputs": [
        {
          "output_type": "execute_result",
          "data": {
            "text/plain": [
              "<matplotlib.axes._subplots.AxesSubplot at 0x7fdf9d4a1e90>"
            ]
          },
          "metadata": {
            "tags": []
          },
          "execution_count": 32
        },
        {
          "output_type": "display_data",
          "data": {
            "image/png": "[encoded data removed]",
            "text/plain": [
              "<Figure size 432x288 with 2 Axes>"
            ]
          },
          "metadata": {
            "tags": [],
            "needs_background": "light"
          }
        }
      ]
    },
    {
      "cell_type": "markdown",
      "metadata": {
        "id": "3VFDw-eBPehe"
      },
      "source": [
        "Looking at feature relationships and note do not want multicollinearity in the logistic regression to be carried out. Associations of note:\n",
        "\n",
        "*   Big clients related to turnover (positive correlation)\n",
        "*   Big clients related to family (positive correlation)\n",
        "*   family related to number of offices (negative correlation)\n",
        "*   turnover related to tax (negative correlation)\n",
        "*   turnover related to family (negative correlation)\n",
        "\n",
        "\n",
        "\n",
        "\n",
        "\n",
        "\n",
        "\n",
        "\n"
      ]
    },
    {
      "cell_type": "markdown",
      "metadata": {
        "id": "dKEs0dnwcNso"
      },
      "source": [
        "Will look at this multicollinearity in more depth:"
      ]
    },
    {
      "cell_type": "markdown",
      "metadata": {
        "id": "EKrt8dz-cs9G"
      },
      "source": [
        "Can see that firms with a client that make up more than 20% of their income are usually specialist family law firms."
      ]
    },
    {
      "cell_type": "code",
      "metadata": {
        "colab": {
          "base_uri": "https://localhost:8080/",
          "height": 297
        },
        "id": "CRZYQ9Aca_jr",
        "outputId": "e694a7d6-c1cf-4224-deb6-92bc8b889596"
      },
      "source": [
        "sns.countplot(x='big_clients',hue='family',data=df)"
      ],
      "execution_count": null,
      "outputs": [
        {
          "output_type": "execute_result",
          "data": {
            "text/plain": [
              "<matplotlib.axes._subplots.AxesSubplot at 0x7faffa3ef590>"
            ]
          },
          "metadata": {
            "tags": []
          },
          "execution_count": 152
        },
        {
          "output_type": "display_data",
          "data": {
            "image/png": "[encoded data removed]",
            "text/plain": [
              "<Figure size 432x288 with 1 Axes>"
            ]
          },
          "metadata": {
            "tags": [],
            "needs_background": "light"
          }
        }
      ]
    },
    {
      "cell_type": "markdown",
      "metadata": {
        "id": "57Y1nK-Gdx_S"
      },
      "source": [
        "The majority of the data here lies between 3 and 4 offices. Most firms have 3 offices. Family specialist firms generally have a lower number than those that are not specialists. "
      ]
    },
    {
      "cell_type": "code",
      "metadata": {
        "colab": {
          "base_uri": "https://localhost:8080/",
          "height": 297
        },
        "id": "Ofp94TVgdYUK",
        "outputId": "af42ef2f-e583-438d-90cf-96dcde6f0e53"
      },
      "source": [
        "sns.countplot(x='num_offices',hue='family',data=df)"
      ],
      "execution_count": null,
      "outputs": [
        {
          "output_type": "execute_result",
          "data": {
            "text/plain": [
              "<matplotlib.axes._subplots.AxesSubplot at 0x7faffb4914d0>"
            ]
          },
          "metadata": {
            "tags": []
          },
          "execution_count": 153
        },
        {
          "output_type": "display_data",
          "data": {
            "image/png": "[encoded data removed]",
            "text/plain": [
              "<Figure size 432x288 with 1 Axes>"
            ]
          },
          "metadata": {
            "tags": [],
            "needs_background": "light"
          }
        }
      ]
    },
    {
      "cell_type": "markdown",
      "metadata": {
        "id": "ROfaUpwk2uLZ"
      },
      "source": [
        "Can see a large amount of crossover in the range of the two plots. Range for turnover varies less for big clients, and these big clients appear to see a higher turnover - which makes sense as they have big clients!"
      ]
    },
    {
      "cell_type": "code",
      "metadata": {
        "colab": {
          "base_uri": "https://localhost:8080/",
          "height": 401
        },
        "id": "Uj08u0Wcyt2E",
        "outputId": "7718983f-870a-4885-f96c-7a72d255d5cf"
      },
      "source": [
        "sns.catplot(x=\"big_clients\", y=\"turnover\", kind=\"box\", data=df)"
      ],
      "execution_count": null,
      "outputs": [
        {
          "output_type": "execute_result",
          "data": {
            "text/plain": [
              "<seaborn.axisgrid.FacetGrid at 0x7faff01b4350>"
            ]
          },
          "metadata": {
            "tags": []
          },
          "execution_count": 162
        },
        {
          "output_type": "display_data",
          "data": {
            "image/png": "[encoded data removed]",
            "text/plain": [
              "<Figure size 360x360 with 1 Axes>"
            ]
          },
          "metadata": {
            "tags": [],
            "needs_background": "light"
          }
        }
      ]
    },
    {
      "cell_type": "markdown",
      "metadata": {
        "id": "cfyNyZcL3a7G"
      },
      "source": [
        "Specialist family clients have a larger range in turnover and also a lower average turnover than those that do not specialise in the area. "
      ]
    },
    {
      "cell_type": "code",
      "metadata": {
        "colab": {
          "base_uri": "https://localhost:8080/",
          "height": 400
        },
        "id": "vmdNF4Ql3N47",
        "outputId": "9d20d9c5-b9f3-431e-c6b0-fd1f80036050"
      },
      "source": [
        "sns.catplot(x=\"family\", y=\"turnover\", kind=\"box\", data=df)"
      ],
      "execution_count": null,
      "outputs": [
        {
          "output_type": "execute_result",
          "data": {
            "text/plain": [
              "<seaborn.axisgrid.FacetGrid at 0x7faff00195d0>"
            ]
          },
          "metadata": {
            "tags": []
          },
          "execution_count": 163
        },
        {
          "output_type": "display_data",
          "data": {
            "image/png": "[encoded data removed]",
            "text/plain": [
              "<Figure size 360x360 with 1 Axes>"
            ]
          },
          "metadata": {
            "tags": [],
            "needs_background": "light"
          }
        }
      ]
    },
    {
      "cell_type": "markdown",
      "metadata": {
        "id": "AwylAMKTH0-v"
      },
      "source": [
        "Specialist tax firms on average see a lower turnover than those that are not. "
      ]
    },
    {
      "cell_type": "code",
      "metadata": {
        "colab": {
          "base_uri": "https://localhost:8080/",
          "height": 400
        },
        "id": "HMvZwxMOGYmf",
        "outputId": "601b51b2-c75b-4ddc-ced8-58c96a0d8658"
      },
      "source": [
        "sns.catplot(x=\"tax\", y=\"turnover\", kind=\"box\", data=df)"
      ],
      "execution_count": null,
      "outputs": [
        {
          "output_type": "execute_result",
          "data": {
            "text/plain": [
              "<seaborn.axisgrid.FacetGrid at 0x7f2ce8b88e90>"
            ]
          },
          "metadata": {
            "tags": []
          },
          "execution_count": 9
        },
        {
          "output_type": "display_data",
          "data": {
            "image/png": "[encoded data removed]",
            "text/plain": [
              "<Figure size 360x360 with 1 Axes>"
            ]
          },
          "metadata": {
            "tags": [],
            "needs_background": "light"
          }
        }
      ]
    },
    {
      "cell_type": "markdown",
      "metadata": {
        "id": "YvuABHrRFMas"
      },
      "source": [
        "Categorical variables have already kindly been flagged, therefore can use pearson's correlation coefficient to see which variables are related to disciplinary action:"
      ]
    },
    {
      "cell_type": "code",
      "metadata": {
        "colab": {
          "base_uri": "https://localhost:8080/"
        },
        "id": "hpm71o2NAurR",
        "outputId": "837c844c-5fb6-469e-9ecd-ef9185346fd4"
      },
      "source": [
        "df[df.columns[:]].corr()['disciplinary_action'][:]"
      ],
      "execution_count": null,
      "outputs": [
        {
          "output_type": "execute_result",
          "data": {
            "text/plain": [
              "big_clients            0.172744\n",
              "num_offices            0.068660\n",
              "tax                   -0.188854\n",
              "overseas_offices       0.007221\n",
              "tcsp                   0.096104\n",
              "turnover              -0.018543\n",
              "conveyancing           0.049368\n",
              "numstaff               0.074375\n",
              "family                 0.063113\n",
              "dispute               -0.004383\n",
              "parking               -0.110722\n",
              "disciplinary_action    1.000000\n",
              "Name: disciplinary_action, dtype: float64"
            ]
          },
          "metadata": {
            "tags": []
          },
          "execution_count": 15
        }
      ]
    },
    {
      "cell_type": "markdown",
      "metadata": {
        "id": "oywtnqAIIdui"
      },
      "source": [
        "From the above we can see the features that are most related to disciplinary action:\n",
        "\n",
        "*   Tax\n",
        "*   Big_clients\n",
        "*   Parking\n",
        "\n",
        "\n",
        "\n",
        "\n",
        "\n",
        "\n"
      ]
    },
    {
      "cell_type": "markdown",
      "metadata": {
        "id": "zm6ASF0r9SZi"
      },
      "source": [
        "Can see the association below:"
      ]
    },
    {
      "cell_type": "code",
      "metadata": {
        "colab": {
          "base_uri": "https://localhost:8080/",
          "height": 297
        },
        "id": "Wf9GUIzWJJ3C",
        "outputId": "5e99ab33-80ec-4b6c-e02e-9737227223dd"
      },
      "source": [
        "sns.countplot(x='disciplinary_action',hue='tax',data=df)"
      ],
      "execution_count": null,
      "outputs": [
        {
          "output_type": "execute_result",
          "data": {
            "text/plain": [
              "<matplotlib.axes._subplots.AxesSubplot at 0x7f2cdea1aa50>"
            ]
          },
          "metadata": {
            "tags": []
          },
          "execution_count": 25
        },
        {
          "output_type": "display_data",
          "data": {
            "image/png": "[encoded data removed]",
            "text/plain": [
              "<Figure size 432x288 with 1 Axes>"
            ]
          },
          "metadata": {
            "tags": [],
            "needs_background": "light"
          }
        }
      ]
    },
    {
      "cell_type": "code",
      "metadata": {
        "colab": {
          "base_uri": "https://localhost:8080/",
          "height": 300
        },
        "id": "1C0o8CZYJhwD",
        "outputId": "cf7c86ae-b236-4ea1-c25d-81125670c205"
      },
      "source": [
        "sns.countplot(x='disciplinary_action',hue='big_clients',data=df)"
      ],
      "execution_count": null,
      "outputs": [
        {
          "output_type": "execute_result",
          "data": {
            "text/plain": [
              "<matplotlib.axes._subplots.AxesSubplot at 0x7f2cde9f6a10>"
            ]
          },
          "metadata": {
            "tags": []
          },
          "execution_count": 26
        },
        {
          "output_type": "display_data",
          "data": {
            "image/png": "[encoded data removed]",
            "text/plain": [
              "<Figure size 432x288 with 1 Axes>"
            ]
          },
          "metadata": {
            "tags": [],
            "needs_background": "light"
          }
        }
      ]
    },
    {
      "cell_type": "code",
      "metadata": {
        "colab": {
          "base_uri": "https://localhost:8080/",
          "height": 297
        },
        "id": "OaJCqIVyJxZF",
        "outputId": "19735821-4fd4-4c5d-b599-ee418d1bf003"
      },
      "source": [
        "sns.countplot(x='disciplinary_action',hue='parking',data=df)"
      ],
      "execution_count": null,
      "outputs": [
        {
          "output_type": "execute_result",
          "data": {
            "text/plain": [
              "<matplotlib.axes._subplots.AxesSubplot at 0x7f2cde96f650>"
            ]
          },
          "metadata": {
            "tags": []
          },
          "execution_count": 27
        },
        {
          "output_type": "display_data",
          "data": {
            "image/png": "[encoded data removed]",
            "text/plain": [
              "<Figure size 432x288 with 1 Axes>"
            ]
          },
          "metadata": {
            "tags": [],
            "needs_background": "light"
          }
        }
      ]
    },
    {
      "cell_type": "markdown",
      "metadata": {
        "id": "GiKYmKzo-IjN"
      },
      "source": [
        "# Logistic Regression "
      ]
    },
    {
      "cell_type": "markdown",
      "metadata": {
        "id": "WodzKNBVKXCo"
      },
      "source": [
        "Drop turnover and family columns as they are not related to disciplinary action and they create multicollinearity as both related to  big_clients:"
      ]
    },
    {
      "cell_type": "code",
      "metadata": {
        "id": "MR49Q2tg-Kjh"
      },
      "source": [
        "X = df.drop(['disciplinary_action','turnover','family'],axis=1)\n",
        "y = df['disciplinary_action']"
      ],
      "execution_count": null,
      "outputs": []
    },
    {
      "cell_type": "code",
      "metadata": {
        "id": "C6vM_3xV-jpl"
      },
      "source": [
        "X_train, X_test, y_train, y_test = train_test_split(X,y,test_size=0.3,random_state=1)"
      ],
      "execution_count": null,
      "outputs": []
    },
    {
      "cell_type": "code",
      "metadata": {
        "id": "PZAlgL7I-57M"
      },
      "source": [
        "model=LogisticRegression()"
      ],
      "execution_count": null,
      "outputs": []
    },
    {
      "cell_type": "code",
      "metadata": {
        "colab": {
          "base_uri": "https://localhost:8080/"
        },
        "id": "32PEbNw1-9FT",
        "outputId": "5a4f979e-9449-4cde-b2a2-d0ee18830110"
      },
      "source": [
        "model.fit(X_train,y_train)"
      ],
      "execution_count": null,
      "outputs": [
        {
          "output_type": "execute_result",
          "data": {
            "text/plain": [
              "LogisticRegression(C=1.0, class_weight=None, dual=False, fit_intercept=True,\n",
              "                   intercept_scaling=1, l1_ratio=None, max_iter=100,\n",
              "                   multi_class='auto', n_jobs=None, penalty='l2',\n",
              "                   random_state=None, solver='lbfgs', tol=0.0001, verbose=0,\n",
              "                   warm_start=False)"
            ]
          },
          "metadata": {
            "tags": []
          },
          "execution_count": 33
        }
      ]
    },
    {
      "cell_type": "code",
      "metadata": {
        "id": "UJ0pBTft_C82"
      },
      "source": [
        "predictions = model.predict(X_test)"
      ],
      "execution_count": null,
      "outputs": []
    },
    {
      "cell_type": "markdown",
      "metadata": {
        "id": "LhaSpaX3XDNi"
      },
      "source": [
        "Approximately a 75% accuracy"
      ]
    },
    {
      "cell_type": "code",
      "metadata": {
        "colab": {
          "base_uri": "https://localhost:8080/"
        },
        "id": "16NX6jBe_ppV",
        "outputId": "5258f0ca-c088-487e-b8a6-f8a2c9ecf276"
      },
      "source": [
        "accuracy_score(y_test,predictions)"
      ],
      "execution_count": null,
      "outputs": [
        {
          "output_type": "execute_result",
          "data": {
            "text/plain": [
              "0.7466666666666667"
            ]
          },
          "metadata": {
            "tags": []
          },
          "execution_count": 35
        }
      ]
    },
    {
      "cell_type": "markdown",
      "metadata": {
        "id": "Vih2bFXjZnMM"
      },
      "source": [
        "Can view the predictions here and see that for each of the values in the nine columns in this instance there will be a dispute. "
      ]
    },
    {
      "cell_type": "code",
      "metadata": {
        "colab": {
          "base_uri": "https://localhost:8080/"
        },
        "id": "lcoSGgZyYgdx",
        "outputId": "54754ce7-7644-40c4-8dff-029eed834906"
      },
      "source": [
        "y_pred1 = model.predict(X_test[:1])\n",
        "print(X_test[:1])\n",
        "print(y_pred1)"
      ],
      "execution_count": null,
      "outputs": [
        {
          "output_type": "stream",
          "text": [
            "    big_clients  num_offices  tax  ...  numstaff  dispute  parking\n",
            "67            1            3    0  ...      58.0        1        0\n",
            "\n",
            "[1 rows x 9 columns]\n",
            "[1]\n"
          ],
          "name": "stdout"
        }
      ]
    },
    {
      "cell_type": "markdown",
      "metadata": {
        "id": "QRHs-LM5029d"
      },
      "source": [
        "# To improve the model"
      ]
    },
    {
      "cell_type": "markdown",
      "metadata": {
        "id": "qPhmJCDv0-za"
      },
      "source": [
        "In order to improve the model:\n",
        "\n",
        "*   Flag whether the firm has suddenly closed down or stopped helping the client suddenly\n",
        "*   Flag whether the firm has taken or misused money of the client\n",
        "*   Flag whether the firm has acted dishonestly towards the client\n",
        "\n",
        "All of the above should have very strong positive correlations with disciplinary action and would be the most influential predictors.\n",
        "\n"
      ]
    }
  ]
}